{
 "cells": [
  {
   "cell_type": "markdown",
   "id": "988f6654",
   "metadata": {},
   "source": [
    "<div style=\"text-align: center;\">\n",
    "    <h1>duckduckgo search scraper with Selenium</h1>\n",
    "</div>"
   ]
  },
  {
   "cell_type": "code",
   "execution_count": null,
   "id": "33964e9d",
   "metadata": {},
   "outputs": [
    {
     "name": "stderr",
     "output_type": "stream",
     "text": [
      "<>:8: SyntaxWarning: invalid escape sequence '\\c'\n",
      "<>:8: SyntaxWarning: invalid escape sequence '\\c'\n",
      "C:\\Users\\USER\\AppData\\Local\\Temp\\ipykernel_9084\\416140468.py:8: SyntaxWarning: invalid escape sequence '\\c'\n",
      "  PATH = \"C:\\\\Windows\\chromedriver.exe\"\n"
     ]
    },
    {
     "name": "stdout",
     "output_type": "stream",
     "text": [
      "\n",
      " Page 1\n",
      "------------------------------\n",
      "No more pages or Next button not found\n"
     ]
    }
   ],
   "source": [
    "from selenium import webdriver\n",
    "from selenium.webdriver.chrome.service import Service\n",
    "from selenium.webdriver.chrome.options import Options\n",
    "from selenium.webdriver.common.by import By\n",
    "from selenium.webdriver.common.keys import Keys\n",
    "import time\n",
    "\n",
    "PATH = \"C:\\\\Windows\\chromedriver.exe\"\n",
    "service = Service(PATH)\n",
    "options = Options()\n",
    "options.add_argument(\"start-maximized\")\n",
    "options.add_argument(\"user-agent=Mozilla/5.0 (Windows NT 10.0; Win64; x64) AppleWebKit/537.36 Chrome/122.0.0.0 Safari/537.36\")\n",
    "\n",
    "\n",
    "driver = webdriver.Chrome(service=service, options=options)\n",
    "\n",
    "driver.get(\"https://www.duckduckgo.com\")\n",
    "\n",
    "\n",
    "\n",
    "query = \"aranyaadheu\"\n",
    "search_input = driver.find_element(By.NAME, \"q\")\n",
    "search_input.send_keys(query)\n",
    "search_input.send_keys(Keys.RETURN)\n",
    "time.sleep(5)\n",
    "\n",
    "# search through first 5 pages\n",
    "for page in range(1, 6):\n",
    "    print(f\"\\n Page {page}\\n\" + \"-\"*30)\n",
    "    time.sleep(5)\n",
    "\n",
    "    results = driver.find_elements(By.CSS_SELECTOR, 'div.g h3')\n",
    "    links = driver.find_elements(By.CSS_SELECTOR, 'div.g a')\n",
    "\n",
    "    for title, link in zip(results, links):\n",
    "        print(f\"{title.text}\\n{link.get_attribute('href')}\\n\")\n",
    "\n",
    "    # click \"Next\"\n",
    "    try:\n",
    "        next_button = driver.find_element(By.ID, \"pnnext\")\n",
    "        next_button.click()\n",
    "    except:\n",
    "        print(\"No more pages or Next button not found\")\n",
    "        break\n",
    "\n",
    "time.sleep(20)\n",
    "driver.quit()\n"
   ]
  }
 ],
 "metadata": {
  "kernelspec": {
   "display_name": "Python 3",
   "language": "python",
   "name": "python3"
  },
  "language_info": {
   "codemirror_mode": {
    "name": "ipython",
    "version": 3
   },
   "file_extension": ".py",
   "mimetype": "text/x-python",
   "name": "python",
   "nbconvert_exporter": "python",
   "pygments_lexer": "ipython3",
   "version": "3.13.1"
  }
 },
 "nbformat": 4,
 "nbformat_minor": 5
}
