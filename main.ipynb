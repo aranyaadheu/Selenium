{
 "cells": [
  {
   "cell_type": "code",
   "execution_count": 1,
   "id": "02b5f670",
   "metadata": {},
   "outputs": [
    {
     "name": "stdout",
     "output_type": "stream",
     "text": [
      "aranyaadheu\n"
     ]
    }
   ],
   "source": [
    "# pip install selenium\n",
    "# download chromedriver\n",
    "# interact with the webpage\n",
    "\n",
    "from selenium import webdriver\n",
    "from selenium.webdriver.chrome.service import Service\n",
    "from selenium.webdriver.chrome.options import Options\n",
    "\n",
    "PATH = \"C:\\\\Windows\\\\chromedriver.exe\"\n",
    "\n",
    "# set up the chrome driver service\n",
    "service = Service(PATH)\n",
    "\n",
    "options = Options()\n",
    "\n",
    "# Initialize the driver\n",
    "driver = webdriver.Chrome(service=service, options=options)\n",
    "\n",
    "driver.get(\"https://aranyaadheu.vercel.app\")\n",
    "print(driver.title)\n",
    "driver.quit()\n"
   ]
  },
  {
   "cell_type": "markdown",
   "id": "f518b9e9",
   "metadata": {},
   "source": [
    "### How to access elements of the page:\n"
   ]
  },
  {
   "cell_type": "code",
   "execution_count": 9,
   "id": "f8973614",
   "metadata": {},
   "outputs": [
    {
     "name": "stdout",
     "output_type": "stream",
     "text": [
      "The Daily Star – Leading English Daily among Bangladesh Newspapers\n"
     ]
    }
   ],
   "source": [
    "# grab the search bar and access the all search results in my python code. \n",
    "\n",
    "from selenium import webdriver\n",
    "from selenium.webdriver.chrome.service import Service\n",
    "from selenium.webdriver.chrome.options import Options\n",
    "\n",
    "PATH = \"C:\\\\Windows\\\\chromedriver.exe\"\n",
    "\n",
    "service = Service(PATH)\n",
    "options = Options()\n",
    "\n",
    "driver = webdriver.Chrome(service=service, options=options)\n",
    "driver.get(\"https://www.thedailystar.net/\")\n",
    "print(driver.title)\n",
    "driver.quit()"
   ]
  },
  {
   "cell_type": "code",
   "execution_count": null,
   "id": "2715a372",
   "metadata": {},
   "outputs": [
    {
     "name": "stdout",
     "output_type": "stream",
     "text": [
      "Online Courses | E-Learning & Online Training | reed.co.uk\n",
      " Title: Level 3 Diploma in Health and Social Care + Care Certificate Standards (1 to 15) Course\n",
      " Title: Microsoft Office Skills (Microsoft Excel, Word, PowerPoint) Administration & Office Skills\n",
      " Title: Microsoft Excel Complete Course - Beginner To Professional (Updated 2025)\n",
      " Title: Level 5 Diploma in Health and Social Care with Care Certificate Standards (1 to 15)\n",
      " Title: Level 2 & 3 Diploma in Health and Social Care Certificate & Healthcare Assistant Course\n",
      " Title: Level 1, 2 & 3 Diploma in Food Hygiene and Safety for Catering with HACCP & Food Allergen\n",
      " Title: CACHE Level 3 Teaching Assistant & SEN Certificate\n",
      " Title: Cyber IT Security Career Package inc Job Placement\n",
      " Title: Care Certificate Standards (1 to 15) + Level 2 & 3 diploma in Health and Social Care\n",
      " Title: PRINCE2® Foundation & Practitioner - Both Exams Included\n",
      " Title: Office Administration & Reception (Receptionist) Skills Training - Level 3 Diploma\n",
      " Title: Level 5 Diploma in Education & Training Online (DET - Previously known as DTLLS)\n",
      " Title: CACHE Level 3 Award in Supporting Teaching and Learning\n",
      " Title: Teaching Assistant (TA) with SEN Teaching Assistant, Autism, ADHD & Child Care\n",
      " Title: First Aid at Work Training\n",
      " Title: Food Hygiene and Safety Level 3\n",
      " Title: Level 3 Diploma in Health and Social Care with Care Certificate\n",
      " Title: Level 1, 2 & 3 Diploma in Food Hygiene and Safety for Catering with HACCP & Food Allergen\n",
      " Title: Adult Care Diploma Level 3 (RQF)\n",
      " Title: Level 7 Advanced Diploma - Project Management for Project Manager\n",
      " Title: HR: Human Resources Management (Employment Law, UK Payroll & Recruitment) Diploma\n",
      " Title: Advanced Diploma in Digital Marketing (Social Media Marketing, Google Ads, PPC, & SEO)\n",
      " Title: Teaching Assistant Level 3 + Early Years, Teaching and Child Care & SEN Teaching Assistant\n",
      " Title: Adult Care Diploma Level 3 (RQF)\n",
      " Title: Xero, Quickbooks, Sage 50 Bookkeeping with Accounting and Finance for Tax, Payroll & VAT\n"
     ]
    }
   ],
   "source": [
    "from selenium import webdriver\n",
    "from selenium.webdriver.chrome.service import Service\n",
    "from selenium.webdriver.chrome.options import Options\n",
    "from selenium.webdriver.common.by import By\n",
    "import time\n",
    "import csv\n",
    "\n",
    "PATH = \"C:\\\\Windows\\\\chromedriver.exe\"\n",
    "\n",
    "service = Service(PATH)\n",
    "options = Options()\n",
    "\n",
    "driver = webdriver.Chrome(service=service, options=options)\n",
    "driver.get(\"https://www.reed.co.uk/courses/online\")\n",
    "print(driver.title)\n",
    "time.sleep(5)\n",
    "\n",
    "titles = driver.find_elements(By.CSS_SELECTOR, 'a[data-element=\"course_title\"]')\n",
    "for title in titles:\n",
    "    print(\" Title:\", title.text.strip())\n",
    "driver.quit()"
   ]
  }
 ],
 "metadata": {
  "kernelspec": {
   "display_name": "Python 3",
   "language": "python",
   "name": "python3"
  },
  "language_info": {
   "codemirror_mode": {
    "name": "ipython",
    "version": 3
   },
   "file_extension": ".py",
   "mimetype": "text/x-python",
   "name": "python",
   "nbconvert_exporter": "python",
   "pygments_lexer": "ipython3",
   "version": "3.13.1"
  }
 },
 "nbformat": 4,
 "nbformat_minor": 5
}
