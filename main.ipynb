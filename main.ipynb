{
 "cells": [
  {
   "cell_type": "code",
   "execution_count": 1,
   "id": "02b5f670",
   "metadata": {},
   "outputs": [
    {
     "name": "stdout",
     "output_type": "stream",
     "text": [
      "aranyaadheu\n"
     ]
    }
   ],
   "source": [
    "# pip install selenium\n",
    "# download chromedriver\n",
    "# interact with the webpage\n",
    "\n",
    "from selenium import webdriver\n",
    "from selenium.webdriver.chrome.service import Service\n",
    "from selenium.webdriver.chrome.options import Options\n",
    "\n",
    "PATH = \"C:\\\\Windows\\\\chromedriver.exe\"\n",
    "\n",
    "# set up the chrome driver service\n",
    "service = Service(PATH)\n",
    "\n",
    "options = Options()\n",
    "\n",
    "# Initialize the driver\n",
    "driver = webdriver.Chrome(service=service, options=options)\n",
    "\n",
    "driver.get(\"https://aranyaadheu.vercel.app\")\n",
    "print(driver.title)\n",
    "driver.quit()\n"
   ]
  },
  {
   "cell_type": "markdown",
   "id": "f518b9e9",
   "metadata": {},
   "source": [
    "### How to access elements of the page:\n"
   ]
  },
  {
   "cell_type": "code",
   "execution_count": 9,
   "id": "f8973614",
   "metadata": {},
   "outputs": [
    {
     "name": "stdout",
     "output_type": "stream",
     "text": [
      "The Daily Star – Leading English Daily among Bangladesh Newspapers\n"
     ]
    }
   ],
   "source": [
    "# grab the search bar and access the all search results in my python code. \n",
    "\n",
    "from selenium import webdriver\n",
    "from selenium.webdriver.chrome.service import Service\n",
    "from selenium.webdriver.chrome.options import Options\n",
    "\n",
    "PATH = \"C:\\\\Windows\\\\chromedriver.exe\"\n",
    "\n",
    "service = Service(PATH)\n",
    "options = Options()\n",
    "\n",
    "driver = webdriver.Chrome(service=service, options=options)\n",
    "driver.get(\"https://www.thedailystar.net/\")\n",
    "print(driver.title)\n",
    "driver.quit()"
   ]
  },
  {
   "cell_type": "code",
   "execution_count": 8,
   "id": "2715a372",
   "metadata": {},
   "outputs": [
    {
     "name": "stdout",
     "output_type": "stream",
     "text": [
      "Welcome to my portal! I'm Aniruddha Aranya A Dheu, an AI enthusiast who values solitude, cherishes attention to detail, and believes in the power of reflective thinking.\n",
      "\n",
      "\n",
      "<html lang=\"en\"><head><meta charset=\"utf-8\"><meta name=\"viewport\" content=\"width=device-width, initial-scale=1, maximum-scale=5\"><link rel=\"stylesheet\" href=\"/_next/static/css/c7e84642d3b58f07.css\" data-precedence=\"next\"><link rel=\"stylesheet\" href=\"/_next/static/css/a28fa3fa6a3bdee5.css\" data-precedence=\"next\"><link rel=\"preload\" as=\"script\" fetchpriority=\"low\" href=\"/_next/static/chunks/webpack-eda62cb4690095b3.js\"><script src=\"/_next/static/chunks/4bd1b696-0fc777c0ed850b55.js\" async=\"\"></script><script src=\"/_next/static/chunks/684-be9578b31d10939e.js\" async=\"\"></script><script src=\"/_next/static/chunks/main-app-70f3fd67bd0c0bda.js\" async=\"\"></script><script src=\"/_next/static/chunks/app/layout-ca02cb784d5d95bd.js\" async=\"\"></script><script src=\"/_next/static/chunks/448-6338d1f1ca5cd8d9.js\" async=\"\"></script><script src=\"/_next/static/chunks/app/about/page-6a8efb8060d2de51.js\" async=\"\"></script><title>aranyaadheu</title><meta name=\"description\" content=\"madlad in solitude\"><meta name=\"msapplication-TileColor\" content=\"#ffffff\"><meta name=\"msapplication-TileImage\" content=\"/ms-icon-144x144.png\"><meta name=\"theme-color\" content=\"#ffffff\"><meta property=\"og:title\" content=\"aranyaadheu\"><meta property=\"og:description\" content=\"madlad in solitude.\"><meta property=\"og:url\" content=\"https://aranyaadheu.github.io\"><meta name=\"twitter:card\" content=\"summary\"><meta name=\"twitter:title\" content=\"aranyaadheu\"><meta name=\"twitter:description\" content=\"madlad in solitude.\"><link rel=\"icon\" href=\"/favicon.ico\" type=\"image/x-icon\" sizes=\"16x16\"><link rel=\"icon\" href=\"/favicon.ico\"><link rel=\"apple-touch-icon\" href=\"/favicon/apple-icon-180x180.png\"><script src=\"/_next/static/chunks/polyfills-42372ed130431b0a.js\" nomodule=\"\"></script><script src=\"/_vercel/insights/script.js\" defer=\"\" data-sdkn=\"@vercel/analytics/react\" data-sdkv=\"1.5.0\"></script></head><body class=\"min-h-screen bg-white dark:bg-[#212737] text-zinc-900 dark:text-zinc-100 font-sans antialiased\"><div class=\"max-w-2xl mx-auto px-4 sm:px-6 py-8 sm:py-12\"><main class=\"min-h-screen flex flex-col\"><header class=\"mb-8 sm:mb-16 pb-4 border-b border-orange-300/20 dark:border-[#ac4c0c]\" style=\"opacity: 1; transform: none;\"><div class=\"flex items-center justify-between\"><a class=\"text-xl sm:text-2xl font-mono font-bold tracking-tight\" href=\"/\">aranyaadheu</a><div class=\"hidden md:flex items-center space-x-6\"><nav><ul class=\"flex items-center space-x-6 text-sm font-medium\" style=\"opacity: 1;\"><li style=\"opacity: 1; transform: none;\"><a class=\"flex items-center space-x-1 text-zinc-500 hover:text-zinc-300 transition-colors\" href=\"/posts\"><svg xmlns=\"http://www.w3.org/2000/svg\" width=\"24\" height=\"24\" viewBox=\"0 0 24 24\" fill=\"none\" stroke=\"currentColor\" stroke-width=\"2\" stroke-linecap=\"round\" stroke-linejoin=\"round\" class=\"lucide lucide-file-code w-4 h-4\"><path d=\"M10 12.5 8 15l2 2.5\"></path><path d=\"m14 12.5 2 2.5-2 2.5\"></path><path d=\"M14 2v4a2 2 0 0 0 2 2h4\"></path><path d=\"M15 2H6a2 2 0 0 0-2 2v16a2 2 0 0 0 2 2h12a2 2 0 0 0 2-2V7z\"></path></svg><span>Posts</span></a></li><li style=\"opacity: 1; transform: none;\"><a class=\"flex items-center space-x-1 text-zinc-500 hover:text-zinc-300 transition-colors\" href=\"/tags\"><svg xmlns=\"http://www.w3.org/2000/svg\" width=\"24\" height=\"24\" viewBox=\"0 0 24 24\" fill=\"none\" stroke=\"currentColor\" stroke-width=\"2\" stroke-linecap=\"round\" stroke-linejoin=\"round\" class=\"lucide lucide-chevron-right w-4 h-4\"><path d=\"m9 18 6-6-6-6\"></path></svg><span>Tags</span></a></li><li style=\"opacity: 1; transform: none;\"><a class=\"flex items-center space-x-1 hover:text-zinc-300 transition-colors text-zinc-300\" href=\"/about\"><svg xmlns=\"http://www.w3.org/2000/svg\" width=\"24\" height=\"24\" viewBox=\"0 0 24 24\" fill=\"none\" stroke=\"currentColor\" stroke-width=\"2\" stroke-linecap=\"round\" stroke-linejoin=\"round\" class=\"lucide lucide-github w-4 h-4\"><path d=\"M15 22v-4a4.8 4.8 0 0 0-1-3.5c3 0 6-2 6-5.5.08-1.25-.27-2.48-1-3.5.28-1.15.28-2.35 0-3.5 0 0-1 0-3 1.5-2.64-.5-5.36-.5-8 0C6 2 5 2 5 2c-.3 1.15-.3 2.35 0 3.5A5.403 5.403 0 0 0 4 9c0 3.5 3 5.5 6 5.5-.39.49-.68 1.05-.85 1.65-.17.6-.22 1.23-.15 1.85v4\"></path><path d=\"M9 18c-4.51 2-5-2-7-2\"></path></svg><span>About</span></a></li><li style=\"opacity: 1; transform: none;\"><a class=\"flex items-center space-x-1 text-zinc-500 hover:text-zinc-300 transition-colors\" href=\"/search\"><svg xmlns=\"http://www.w3.org/2000/svg\" width=\"24\" height=\"24\" viewBox=\"0 0 24 24\" fill=\"none\" stroke=\"currentColor\" stroke-width=\"2\" stroke-linecap=\"round\" stroke-linejoin=\"round\" class=\"lucide lucide-search w-4 h-4\"><circle cx=\"11\" cy=\"11\" r=\"8\"></circle><path d=\"m21 21-4.3-4.3\"></path></svg><span>Search</span></a></li></ul></nav><button class=\"p-1.5 sm:p-2 text-zinc-500 hover:text-zinc-900 dark:hover:text-zinc-300 transition-colors\" aria-label=\"Toggle theme\"><div style=\"transform:none\"><svg xmlns=\"http://www.w3.org/2000/svg\" width=\"24\" height=\"24\" viewBox=\"0 0 24 24\" fill=\"none\" stroke=\"currentColor\" stroke-width=\"2\" stroke-linecap=\"round\" stroke-linejoin=\"round\" class=\"lucide lucide-sun w-4 h-4 sm:w-5 sm:h-5\"><circle cx=\"12\" cy=\"12\" r=\"4\"></circle><path d=\"M12 2v2\"></path><path d=\"M12 20v2\"></path><path d=\"m4.93 4.93 1.41 1.41\"></path><path d=\"m17.66 17.66 1.41 1.41\"></path><path d=\"M2 12h2\"></path><path d=\"M20 12h2\"></path><path d=\"m6.34 17.66-1.41 1.41\"></path><path d=\"m19.07 4.93-1.41 1.41\"></path></svg></div></button></div><div class=\"flex items-center space-x-2 md:hidden\"><button class=\"p-1.5 sm:p-2 text-zinc-500 hover:text-zinc-900 dark:hover:text-zinc-300 transition-colors\" aria-label=\"Toggle theme\"><div style=\"transform:none\"><svg xmlns=\"http://www.w3.org/2000/svg\" width=\"24\" height=\"24\" viewBox=\"0 0 24 24\" fill=\"none\" stroke=\"currentColor\" stroke-width=\"2\" stroke-linecap=\"round\" stroke-linejoin=\"round\" class=\"lucide lucide-sun w-4 h-4 sm:w-5 sm:h-5\"><circle cx=\"12\" cy=\"12\" r=\"4\"></circle><path d=\"M12 2v2\"></path><path d=\"M12 20v2\"></path><path d=\"m4.93 4.93 1.41 1.41\"></path><path d=\"m17.66 17.66 1.41 1.41\"></path><path d=\"M2 12h2\"></path><path d=\"M20 12h2\"></path><path d=\"m6.34 17.66-1.41 1.41\"></path><path d=\"m19.07 4.93-1.41 1.41\"></path></svg></div></button><button class=\"p-2 text-zinc-500 hover:text-zinc-300 transition-colors\" aria-label=\"Open menu\"><svg xmlns=\"http://www.w3.org/2000/svg\" width=\"24\" height=\"24\" viewBox=\"0 0 24 24\" fill=\"none\" stroke=\"currentColor\" stroke-width=\"2\" stroke-linecap=\"round\" stroke-linejoin=\"round\" class=\"lucide lucide-menu w-6 h-6\"><line x1=\"4\" x2=\"20\" y1=\"12\" y2=\"12\"></line><line x1=\"4\" x2=\"20\" y1=\"6\" y2=\"6\"></line><line x1=\"4\" x2=\"20\" y1=\"18\" y2=\"18\"></line></svg></button></div></div></header><nav class=\"text-sm mb-8 px-4\" style=\"opacity: 1;\"><ol class=\"flex items-center\"><li><a class=\"text-zinc-500 hover:text-zinc-300 transition-colors\" href=\"/\">Home</a></li><li class=\"flex items-center\"><span class=\"text-zinc-600 mx-3\">»</span><a class=\"text-zinc-100 cursor-default pointer-events-none\" href=\"/about\">About</a></li></ol></nav><div class=\"flex-grow\"><section class=\"prose dark:prose-invert max-w-none\" style=\"opacity: 1;\"><div class=\"mb-4 sm:mb-6\" style=\"opacity: 1; transform: none;\"><h1 class=\"text-[1.5rem] sm:text-[1.75rem] font-bold font-mono m-0 tracking-tight\">About</h1></div><p class=\"mb-4 sm:mb-6 font-pitch text-sm sm:text-base\" style=\"opacity: 1; transform: none;\">Welcome to my portal! I'm <span style=\"font-weight:900\" class=\"font-black\">Aniruddha Aranya A Dheu</span>, an AI enthusiast who values solitude, cherishes attention to detail, and believes in the power of reflective thinking.</p><p class=\"mb-4 sm:mb-6 font-pitch text-sm sm:text-base\" style=\"opacity: 1; transform: none;\">I love connecting the dots between different fields, combining technical expertise with creative insights. Whether it's developing intelligent algorithms, analyzing chess strategies, or writing efficient code, I'm always looking for ways to innovate.</p><p class=\"mb-4 sm:mb-6 font-pitch text-sm sm:text-base\" style=\"opacity: 1; transform: none;\">I believe in lifelong learning and embracing uncertainty. Every challenge is an opportunity to grow and explore new perspectives. My ultimate goal? To create something meaningful while keeping humor alive in everything I do.</p><h2 class=\"text-[1.5rem] sm:text-[1.75rem] font-bold font-mono mt-8 sm:mt-12 mb-4\" style=\"opacity: 1; transform: none;\">Deep diving into</h2><ul class=\"list-none p-0 mb-6 sm:mb-8 space-y-2 font-pitch text-sm sm:text-base\" style=\"opacity: 1;\"><li class=\"flex items-center\" style=\"opacity: 1; transform: none;\"><span class=\"mr-2\">📊</span> Data Wrangling with pandas, NumPy &amp; Jupyter</li><li class=\"flex items-center\" style=\"opacity: 1; transform: none;\"><span class=\"mr-2\">🧠</span> Large Language Models (LLMs)</li><li class=\"flex items-center\" style=\"opacity: 1; transform: none;\"><span class=\"mr-2\">📖</span> Retrieval-Augmented Generation (RAG)</li><li class=\"flex items-center\" style=\"opacity: 1; transform: none;\"><span class=\"mr-2\">💻</span> AI/ ML &amp; Data Science</li><li class=\"flex items-center\" style=\"opacity: 1; transform: none;\"><span class=\"mr-2\">♟️</span> Chess Analysis</li><li class=\"flex items-center\" style=\"opacity: 1; transform: none;\"><span class=\"mr-2\">🧩</span> Problem Solving</li></ul><h2 class=\"text-[1.5rem] sm:text-[1.75rem] font-bold font-mono mt-8 sm:mt-12 mb-4\" style=\"opacity: 1; transform: none;\">Skills</h2><ul class=\"list-none p-0 mb-6 sm:mb-8 space-y-2 font-pitch text-sm sm:text-base\" style=\"opacity: 1;\"><li class=\"flex items-center\" style=\"opacity: 1; transform: none;\"><span class=\"mr-2\">⚡</span> Frontend: HTML, CSS</li><li class=\"flex items-center\" style=\"opacity: 1; transform: none;\"><span class=\"mr-2\">🔧</span> Backend: Python, Pandas</li><li class=\"flex items-center\" style=\"opacity: 1; transform: none;\"><span class=\"mr-2\">💻</span> Languages: Python</li><li class=\"flex items-center\" style=\"opacity: 1; transform: none;\"><span class=\"mr-2\">🛠️</span> Tools: Git, VS Code, Linux, Jupyter Notebook, Colab, Vercel</li></ul><h2 class=\"text-[1.5rem] sm:text-[1.75rem] font-bold font-mono mt-8 sm:mt-12 mb-4\" style=\"opacity: 1; transform: none;\">Get in Touch</h2><p class=\"mb-4 sm:mb-6 font-pitch text-sm sm:text-base\" style=\"opacity: 1; transform: none;\">Feel free to reach out to me on<!-- --> <a class=\"text-primary hover:underline\" href=\"https://github.com/aranyaadheu\">GitHub</a>,<!-- --> <a class=\"text-primary hover:underline\" href=\"https://www.linkedin.com/in/aranyaadheu/\">LinkedIn</a>, or<!-- --> <a class=\"text-primary hover:underline\" href=\"https://facebook.com/aranyaadheu/\">Facebook</a>.</p></section></div><footer class=\"mt-8 sm:mt-16\" style=\"opacity: 1;\"><div class=\"border-t border-orange-300/20 dark:border-[#ac4c0c]\"></div><div class=\"py-6 px-4\"><div class=\"flex justify-between items-center\"><p class=\"text-xs sm:text-sm text-zinc-500\">Copyright © 2025 | All rights reserved.</p><div class=\"flex items-center space-x-4\"><a class=\"text-zinc-500 hover:text-zinc-300 transition-colors\" target=\"_blank\" rel=\"noopener noreferrer\" href=\"https://github.com/aranyaadheu\"><svg xmlns=\"http://www.w3.org/2000/svg\" width=\"24\" height=\"24\" viewBox=\"0 0 24 24\" fill=\"none\" stroke=\"currentColor\" stroke-width=\"2\" stroke-linecap=\"round\" stroke-linejoin=\"round\" class=\"lucide lucide-github w-5 h-5\"><path d=\"M15 22v-4a4.8 4.8 0 0 0-1-3.5c3 0 6-2 6-5.5.08-1.25-.27-2.48-1-3.5.28-1.15.28-2.35 0-3.5 0 0-1 0-3 1.5-2.64-.5-5.36-.5-8 0C6 2 5 2 5 2c-.3 1.15-.3 2.35 0 3.5A5.403 5.403 0 0 0 4 9c0 3.5 3 5.5 6 5.5-.39.49-.68 1.05-.85 1.65-.17.6-.22 1.23-.15 1.85v4\"></path><path d=\"M9 18c-4.51 2-5-2-7-2\"></path></svg></a><a class=\"text-zinc-500 hover:text-zinc-300 transition-colors\" target=\"_blank\" rel=\"noopener noreferrer\" href=\"https://facebook.com/aranyaadheu\"><svg xmlns=\"http://www.w3.org/2000/svg\" width=\"24\" height=\"24\" viewBox=\"0 0 24 24\" fill=\"none\" stroke=\"currentColor\" stroke-width=\"2\" stroke-linecap=\"round\" stroke-linejoin=\"round\" class=\"lucide lucide-facebook w-5 h-5\"><path d=\"M18 2h-3a5 5 0 0 0-5 5v3H7v4h3v8h4v-8h3l1-4h-4V7a1 1 0 0 1 1-1h3z\"></path></svg></a><a class=\"text-zinc-500 hover:text-zinc-300 transition-colors\" target=\"_blank\" rel=\"noopener noreferrer\" href=\"https://www.linkedin.com/in/aranyaadheu/\"><svg xmlns=\"http://www.w3.org/2000/svg\" width=\"24\" height=\"24\" viewBox=\"0 0 24 24\" fill=\"none\" stroke=\"currentColor\" stroke-width=\"2\" stroke-linecap=\"round\" stroke-linejoin=\"round\" class=\"lucide lucide-linkedin w-5 h-5\"><path d=\"M16 8a6 6 0 0 1 6 6v7h-4v-7a2 2 0 0 0-2-2 2 2 0 0 0-2 2v7h-4v-7a6 6 0 0 1 6-6z\"></path><rect width=\"4\" height=\"12\" x=\"2\" y=\"9\"></rect><circle cx=\"4\" cy=\"4\" r=\"2\"></circle></svg></a></div></div></div></footer></main></div><script src=\"/_next/static/chunks/webpack-eda62cb4690095b3.js\" async=\"\"></script><script>(self.__next_f=self.__next_f||[]).push([0])</script><script>self.__next_f.push([1,\"1:\\\"$Sreact.fragment\\\"\\n2:I[7555,[],\\\"\\\"]\\n3:I[1295,[],\\\"\\\"]\\n4:I[1828,[\\\"177\\\",\\\"static/chunks/app/layout-ca02cb784d5d95bd.js\\\"],\\\"Analytics\\\"]\\n5:I[894,[],\\\"ClientPageRoot\\\"]\\n6:I[7323,[\\\"448\\\",\\\"static/chunks/448-6338d1f1ca5cd8d9.js\\\",\\\"220\\\",\\\"static/chunks/app/about/page-6a8efb8060d2de51.js\\\"],\\\"default\\\"]\\n9:I[9665,[],\\\"OutletBoundary\\\"]\\nc:I[9665,[],\\\"ViewportBoundary\\\"]\\ne:I[9665,[],\\\"MetadataBoundary\\\"]\\n10:I[6614,[],\\\"\\\"]\\n:HL[\\\"/_next/static/css/c7e84642d3b58f07.css\\\",\\\"style\\\"]\\n:HL[\\\"/_next/static/css/a28fa3fa6a3bdee5.css\\\",\\\"style\\\"]\\n\"])</script><script>self.__next_f.push([1,\"0:{\\\"P\\\":null,\\\"b\\\":\\\"qJ9fAAQRWwSi-RDXfK-vj\\\",\\\"p\\\":\\\"\\\",\\\"c\\\":[\\\"\\\",\\\"about\\\"],\\\"i\\\":false,\\\"f\\\":[[[\\\"\\\",{\\\"children\\\":[\\\"about\\\",{\\\"children\\\":[\\\"__PAGE__\\\",{}]}]},\\\"$undefined\\\",\\\"$undefined\\\",true],[\\\"\\\",[\\\"$\\\",\\\"$1\\\",\\\"c\\\",{\\\"children\\\":[[[\\\"$\\\",\\\"link\\\",\\\"0\\\",{\\\"rel\\\":\\\"stylesheet\\\",\\\"href\\\":\\\"/_next/static/css/c7e84642d3b58f07.css\\\",\\\"precedence\\\":\\\"next\\\",\\\"crossOrigin\\\":\\\"$undefined\\\",\\\"nonce\\\":\\\"$undefined\\\"}],[\\\"$\\\",\\\"link\\\",\\\"1\\\",{\\\"rel\\\":\\\"stylesheet\\\",\\\"href\\\":\\\"/_next/static/css/a28fa3fa6a3bdee5.css\\\",\\\"precedence\\\":\\\"next\\\",\\\"crossOrigin\\\":\\\"$undefined\\\",\\\"nonce\\\":\\\"$undefined\\\"}]],[\\\"$\\\",\\\"html\\\",null,{\\\"lang\\\":\\\"en\\\",\\\"children\\\":[\\\"$\\\",\\\"body\\\",null,{\\\"className\\\":\\\"min-h-screen bg-white dark:bg-[#212737] text-zinc-900 dark:text-zinc-100 font-sans antialiased\\\",\\\"children\\\":[[\\\"$\\\",\\\"div\\\",null,{\\\"className\\\":\\\"max-w-2xl mx-auto px-4 sm:px-6 py-8 sm:py-12\\\",\\\"children\\\":[\\\"$\\\",\\\"$L2\\\",null,{\\\"parallelRouterKey\\\":\\\"children\\\",\\\"error\\\":\\\"$undefined\\\",\\\"errorStyles\\\":\\\"$undefined\\\",\\\"errorScripts\\\":\\\"$undefined\\\",\\\"template\\\":[\\\"$\\\",\\\"$L3\\\",null,{}],\\\"templateStyles\\\":\\\"$undefined\\\",\\\"templateScripts\\\":\\\"$undefined\\\",\\\"notFound\\\":[[[\\\"$\\\",\\\"title\\\",null,{\\\"children\\\":\\\"404: This page could not be found.\\\"}],[\\\"$\\\",\\\"div\\\",null,{\\\"style\\\":{\\\"fontFamily\\\":\\\"system-ui,\\\\\\\"Segoe UI\\\\\\\",Roboto,Helvetica,Arial,sans-serif,\\\\\\\"Apple Color Emoji\\\\\\\",\\\\\\\"Segoe UI Emoji\\\\\\\"\\\",\\\"height\\\":\\\"100vh\\\",\\\"textAlign\\\":\\\"center\\\",\\\"display\\\":\\\"flex\\\",\\\"flexDirection\\\":\\\"column\\\",\\\"alignItems\\\":\\\"center\\\",\\\"justifyContent\\\":\\\"center\\\"},\\\"children\\\":[\\\"$\\\",\\\"div\\\",null,{\\\"children\\\":[[\\\"$\\\",\\\"style\\\",null,{\\\"dangerouslySetInnerHTML\\\":{\\\"__html\\\":\\\"body{color:#000;background:#fff;margin:0}.next-error-h1{border-right:1px solid rgba(0,0,0,.3)}@media (prefers-color-scheme:dark){body{color:#fff;background:#000}.next-error-h1{border-right:1px solid rgba(255,255,255,.3)}}\\\"}}],[\\\"$\\\",\\\"h1\\\",null,{\\\"className\\\":\\\"next-error-h1\\\",\\\"style\\\":{\\\"display\\\":\\\"inline-block\\\",\\\"margin\\\":\\\"0 20px 0 0\\\",\\\"padding\\\":\\\"0 23px 0 0\\\",\\\"fontSize\\\":24,\\\"fontWeight\\\":500,\\\"verticalAlign\\\":\\\"top\\\",\\\"lineHeight\\\":\\\"49px\\\"},\\\"children\\\":404}],[\\\"$\\\",\\\"div\\\",null,{\\\"style\\\":{\\\"display\\\":\\\"inline-block\\\"},\\\"children\\\":[\\\"$\\\",\\\"h2\\\",null,{\\\"style\\\":{\\\"fontSize\\\":14,\\\"fontWeight\\\":400,\\\"lineHeight\\\":\\\"49px\\\",\\\"margin\\\":0},\\\"children\\\":\\\"This page could not be found.\\\"}]}]]}]}]],\\\"$undefined\\\",[]],\\\"forbidden\\\":\\\"$undefined\\\",\\\"unauthorized\\\":\\\"$undefined\\\"}]}],[\\\"$\\\",\\\"$L4\\\",null,{}]]}]}]]}],{\\\"children\\\":[\\\"about\\\",[\\\"$\\\",\\\"$1\\\",\\\"c\\\",{\\\"children\\\":[null,[\\\"$\\\",\\\"$L2\\\",null,{\\\"parallelRouterKey\\\":\\\"children\\\",\\\"error\\\":\\\"$undefined\\\",\\\"errorStyles\\\":\\\"$undefined\\\",\\\"errorScripts\\\":\\\"$undefined\\\",\\\"template\\\":[\\\"$\\\",\\\"$L3\\\",null,{}],\\\"templateStyles\\\":\\\"$undefined\\\",\\\"templateScripts\\\":\\\"$undefined\\\",\\\"notFound\\\":\\\"$undefined\\\",\\\"forbidden\\\":\\\"$undefined\\\",\\\"unauthorized\\\":\\\"$undefined\\\"}]]}],{\\\"children\\\":[\\\"__PAGE__\\\",[\\\"$\\\",\\\"$1\\\",\\\"c\\\",{\\\"children\\\":[[\\\"$\\\",\\\"$L5\\\",null,{\\\"Component\\\":\\\"$6\\\",\\\"searchParams\\\":{},\\\"params\\\":{},\\\"promises\\\":[\\\"$@7\\\",\\\"$@8\\\"]}],\\\"$undefined\\\",null,[\\\"$\\\",\\\"$L9\\\",null,{\\\"children\\\":[\\\"$La\\\",\\\"$Lb\\\",null]}]]}],{},null,false]},null,false]},null,false],[\\\"$\\\",\\\"$1\\\",\\\"h\\\",{\\\"children\\\":[null,[\\\"$\\\",\\\"$1\\\",\\\"kk4bVI4hUNyUykjDhKiWq\\\",{\\\"children\\\":[[\\\"$\\\",\\\"$Lc\\\",null,{\\\"children\\\":\\\"$Ld\\\"}],null]}],[\\\"$\\\",\\\"$Le\\\",null,{\\\"children\\\":\\\"$Lf\\\"}]]}],false]],\\\"m\\\":\\\"$undefined\\\",\\\"G\\\":[\\\"$10\\\",\\\"$undefined\\\"],\\\"s\\\":false,\\\"S\\\":true}\\n\"])</script><script>self.__next_f.push([1,\"7:{}\\n8:{}\\n\"])</script><script>self.__next_f.push([1,\"d:[[\\\"$\\\",\\\"meta\\\",\\\"0\\\",{\\\"charSet\\\":\\\"utf-8\\\"}],[\\\"$\\\",\\\"meta\\\",\\\"1\\\",{\\\"name\\\":\\\"viewport\\\",\\\"content\\\":\\\"width=device-width, initial-scale=1, maximum-scale=5\\\"}]]\\na:null\\n\"])</script><script>self.__next_f.push([1,\"b:null\\nf:[[\\\"$\\\",\\\"title\\\",\\\"0\\\",{\\\"children\\\":\\\"aranyaadheu\\\"}],[\\\"$\\\",\\\"meta\\\",\\\"1\\\",{\\\"name\\\":\\\"description\\\",\\\"content\\\":\\\"madlad in solitude\\\"}],[\\\"$\\\",\\\"meta\\\",\\\"2\\\",{\\\"name\\\":\\\"msapplication-TileColor\\\",\\\"content\\\":\\\"#ffffff\\\"}],[\\\"$\\\",\\\"meta\\\",\\\"3\\\",{\\\"name\\\":\\\"msapplication-TileImage\\\",\\\"content\\\":\\\"/ms-icon-144x144.png\\\"}],[\\\"$\\\",\\\"meta\\\",\\\"4\\\",{\\\"name\\\":\\\"theme-color\\\",\\\"content\\\":\\\"#ffffff\\\"}],[\\\"$\\\",\\\"meta\\\",\\\"5\\\",{\\\"property\\\":\\\"og:title\\\",\\\"content\\\":\\\"aranyaadheu\\\"}],[\\\"$\\\",\\\"meta\\\",\\\"6\\\",{\\\"property\\\":\\\"og:description\\\",\\\"content\\\":\\\"madlad in solitude.\\\"}],[\\\"$\\\",\\\"meta\\\",\\\"7\\\",{\\\"property\\\":\\\"og:url\\\",\\\"content\\\":\\\"https://aranyaadheu.github.io\\\"}],[\\\"$\\\",\\\"meta\\\",\\\"8\\\",{\\\"name\\\":\\\"twitter:card\\\",\\\"content\\\":\\\"summary\\\"}],[\\\"$\\\",\\\"meta\\\",\\\"9\\\",{\\\"name\\\":\\\"twitter:title\\\",\\\"content\\\":\\\"aranyaadheu\\\"}],[\\\"$\\\",\\\"meta\\\",\\\"10\\\",{\\\"name\\\":\\\"twitter:description\\\",\\\"content\\\":\\\"madlad in solitude.\\\"}],[\\\"$\\\",\\\"link\\\",\\\"11\\\",{\\\"rel\\\":\\\"icon\\\",\\\"href\\\":\\\"/favicon.ico\\\",\\\"type\\\":\\\"image/x-icon\\\",\\\"sizes\\\":\\\"16x16\\\"}],[\\\"$\\\",\\\"link\\\",\\\"12\\\",{\\\"rel\\\":\\\"icon\\\",\\\"href\\\":\\\"/favicon.ico\\\"}],[\\\"$\\\",\\\"link\\\",\\\"13\\\",{\\\"rel\\\":\\\"apple-touch-icon\\\",\\\"href\\\":\\\"/favicon/apple-icon-180x180.png\\\"}]]\\n\"])</script><next-route-announcer style=\"position: absolute;\"></next-route-announcer></body></html>\n"
     ]
    }
   ],
   "source": [
    "from selenium import webdriver\n",
    "from selenium.webdriver.chrome.service import Service\n",
    "from selenium.webdriver.chrome.options import Options\n",
    "from selenium.webdriver.common.by import By\n",
    "import time\n",
    "\n",
    "PATH = \"C:\\\\Windows\\\\chromedriver.exe\"\n",
    "\n",
    "service = Service(PATH)\n",
    "options = Options()\n",
    "\n",
    "driver = webdriver.Chrome(service=service, options=options)\n",
    "driver.get(\"https://aranyaadheu.vercel.app/about\")\n",
    "\n",
    "time.sleep(5)\n",
    "\n",
    "paragraph = driver.find_element(By.CSS_SELECTOR, 'p.font-pitch.text-sm')\n",
    "\n",
    "print(paragraph.text)\n",
    "print(\"\\n\")\n",
    "print(driver.page_source)\n",
    "driver.quit()"
   ]
  }
 ],
 "metadata": {
  "kernelspec": {
   "display_name": "Python 3",
   "language": "python",
   "name": "python3"
  },
  "language_info": {
   "codemirror_mode": {
    "name": "ipython",
    "version": 3
   },
   "file_extension": ".py",
   "mimetype": "text/x-python",
   "name": "python",
   "nbconvert_exporter": "python",
   "pygments_lexer": "ipython3",
   "version": "3.13.1"
  }
 },
 "nbformat": 4,
 "nbformat_minor": 5
}
