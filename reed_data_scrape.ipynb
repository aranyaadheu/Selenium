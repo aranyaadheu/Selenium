{
 "cells": [
  {
   "cell_type": "code",
   "execution_count": null,
   "id": "7668555c",
   "metadata": {},
   "outputs": [
    {
     "name": "stdout",
     "output_type": "stream",
     "text": [
      "\n",
      " Page 1\n",
      "\n",
      " Page 2\n",
      "\n",
      " Page 3\n"
     ]
    },
    {
     "ename": "InvalidSessionIdException",
     "evalue": "Message: invalid session id: session deleted as the browser has closed the connection\nfrom disconnected: not connected to DevTools\n  (Session info: chrome=137.0.7151.55)\nStacktrace:\n\tGetHandleVerifier [0x0xc8f173+62931]\n\tGetHandleVerifier [0x0xc8f1b4+62996]\n\t(No symbol) [0x0xaa1053]\n\t(No symbol) [0x0xa90830]\n\t(No symbol) [0x0xaae7ef]\n\t(No symbol) [0x0xb1515c]\n\t(No symbol) [0x0xb2f2f9]\n\t(No symbol) [0x0xb0e2a6]\n\t(No symbol) [0x0xadd5f0]\n\t(No symbol) [0x0xade464]\n\tGetHandleVerifier [0x0xee3463+2504899]\n\tGetHandleVerifier [0x0xede892+2485490]\n\tGetHandleVerifier [0x0xcb590a+220522]\n\tGetHandleVerifier [0x0xca6388+157672]\n\tGetHandleVerifier [0x0xcacb6d+184269]\n\tGetHandleVerifier [0x0xc97158+95672]\n\tGetHandleVerifier [0x0xc97300+96096]\n\tGetHandleVerifier [0x0xc821aa+9738]\n\tBaseThreadInitThunk [0x0x75f4fcc9+25]\n\tRtlGetAppContainerNamedObjectPath [0x0x771082ae+286]\n\tRtlGetAppContainerNamedObjectPath [0x0x7710827e+238]\n",
     "output_type": "error",
     "traceback": [
      "\u001b[31m---------------------------------------------------------------------------\u001b[39m",
      "\u001b[31mInvalidSessionIdException\u001b[39m                 Traceback (most recent call last)",
      "\u001b[36mCell\u001b[39m\u001b[36m \u001b[39m\u001b[32mIn[8]\u001b[39m\u001b[32m, line 24\u001b[39m\n\u001b[32m     21\u001b[39m driver.get(url)\n\u001b[32m     22\u001b[39m time.sleep(\u001b[32m5\u001b[39m)\n\u001b[32m---> \u001b[39m\u001b[32m24\u001b[39m course_cards = \u001b[43mdriver\u001b[49m\u001b[43m.\u001b[49m\u001b[43mfind_elements\u001b[49m\u001b[43m(\u001b[49m\u001b[43mBy\u001b[49m\u001b[43m.\u001b[49m\u001b[43mCSS_SELECTOR\u001b[49m\u001b[43m,\u001b[49m\u001b[43m \u001b[49m\u001b[33;43m\"\u001b[39;49m\u001b[33;43marticle.card\u001b[39;49m\u001b[33;43m\"\u001b[39;49m\u001b[43m)\u001b[49m\n\u001b[32m     26\u001b[39m \u001b[38;5;28;01mfor\u001b[39;00m card \u001b[38;5;129;01min\u001b[39;00m course_cards:\n\u001b[32m     27\u001b[39m     \u001b[38;5;28;01mtry\u001b[39;00m:\n",
      "\u001b[36mFile \u001b[39m\u001b[32m~\\AppData\\Roaming\\Python\\Python313\\site-packages\\selenium\\webdriver\\remote\\webdriver.py:955\u001b[39m, in \u001b[36mWebDriver.find_elements\u001b[39m\u001b[34m(self, by, value)\u001b[39m\n\u001b[32m    951\u001b[39m     \u001b[38;5;28;01mreturn\u001b[39;00m \u001b[38;5;28mself\u001b[39m.execute_script(find_element_js, by.to_dict())\n\u001b[32m    953\u001b[39m \u001b[38;5;66;03m# Return empty list if driver returns null\u001b[39;00m\n\u001b[32m    954\u001b[39m \u001b[38;5;66;03m# See https://github.com/SeleniumHQ/selenium/issues/4555\u001b[39;00m\n\u001b[32m--> \u001b[39m\u001b[32m955\u001b[39m \u001b[38;5;28;01mreturn\u001b[39;00m \u001b[38;5;28;43mself\u001b[39;49m\u001b[43m.\u001b[49m\u001b[43mexecute\u001b[49m\u001b[43m(\u001b[49m\u001b[43mCommand\u001b[49m\u001b[43m.\u001b[49m\u001b[43mFIND_ELEMENTS\u001b[49m\u001b[43m,\u001b[49m\u001b[43m \u001b[49m\u001b[43m{\u001b[49m\u001b[33;43m\"\u001b[39;49m\u001b[33;43musing\u001b[39;49m\u001b[33;43m\"\u001b[39;49m\u001b[43m:\u001b[49m\u001b[43m \u001b[49m\u001b[43mby\u001b[49m\u001b[43m,\u001b[49m\u001b[43m \u001b[49m\u001b[33;43m\"\u001b[39;49m\u001b[33;43mvalue\u001b[39;49m\u001b[33;43m\"\u001b[39;49m\u001b[43m:\u001b[49m\u001b[43m \u001b[49m\u001b[43mvalue\u001b[49m\u001b[43m}\u001b[49m\u001b[43m)\u001b[49m[\u001b[33m\"\u001b[39m\u001b[33mvalue\u001b[39m\u001b[33m\"\u001b[39m] \u001b[38;5;129;01mor\u001b[39;00m []\n",
      "\u001b[36mFile \u001b[39m\u001b[32m~\\AppData\\Roaming\\Python\\Python313\\site-packages\\selenium\\webdriver\\remote\\webdriver.py:448\u001b[39m, in \u001b[36mWebDriver.execute\u001b[39m\u001b[34m(self, driver_command, params)\u001b[39m\n\u001b[32m    446\u001b[39m response = \u001b[38;5;28mself\u001b[39m.command_executor.execute(driver_command, params)\n\u001b[32m    447\u001b[39m \u001b[38;5;28;01mif\u001b[39;00m response:\n\u001b[32m--> \u001b[39m\u001b[32m448\u001b[39m     \u001b[38;5;28;43mself\u001b[39;49m\u001b[43m.\u001b[49m\u001b[43merror_handler\u001b[49m\u001b[43m.\u001b[49m\u001b[43mcheck_response\u001b[49m\u001b[43m(\u001b[49m\u001b[43mresponse\u001b[49m\u001b[43m)\u001b[49m\n\u001b[32m    449\u001b[39m     response[\u001b[33m\"\u001b[39m\u001b[33mvalue\u001b[39m\u001b[33m\"\u001b[39m] = \u001b[38;5;28mself\u001b[39m._unwrap_value(response.get(\u001b[33m\"\u001b[39m\u001b[33mvalue\u001b[39m\u001b[33m\"\u001b[39m, \u001b[38;5;28;01mNone\u001b[39;00m))\n\u001b[32m    450\u001b[39m     \u001b[38;5;28;01mreturn\u001b[39;00m response\n",
      "\u001b[36mFile \u001b[39m\u001b[32m~\\AppData\\Roaming\\Python\\Python313\\site-packages\\selenium\\webdriver\\remote\\errorhandler.py:232\u001b[39m, in \u001b[36mErrorHandler.check_response\u001b[39m\u001b[34m(self, response)\u001b[39m\n\u001b[32m    230\u001b[39m         alert_text = value[\u001b[33m\"\u001b[39m\u001b[33malert\u001b[39m\u001b[33m\"\u001b[39m].get(\u001b[33m\"\u001b[39m\u001b[33mtext\u001b[39m\u001b[33m\"\u001b[39m)\n\u001b[32m    231\u001b[39m     \u001b[38;5;28;01mraise\u001b[39;00m exception_class(message, screen, stacktrace, alert_text)  \u001b[38;5;66;03m# type: ignore[call-arg]  # mypy is not smart enough here\u001b[39;00m\n\u001b[32m--> \u001b[39m\u001b[32m232\u001b[39m \u001b[38;5;28;01mraise\u001b[39;00m exception_class(message, screen, stacktrace)\n",
      "\u001b[31mInvalidSessionIdException\u001b[39m: Message: invalid session id: session deleted as the browser has closed the connection\nfrom disconnected: not connected to DevTools\n  (Session info: chrome=137.0.7151.55)\nStacktrace:\n\tGetHandleVerifier [0x0xc8f173+62931]\n\tGetHandleVerifier [0x0xc8f1b4+62996]\n\t(No symbol) [0x0xaa1053]\n\t(No symbol) [0x0xa90830]\n\t(No symbol) [0x0xaae7ef]\n\t(No symbol) [0x0xb1515c]\n\t(No symbol) [0x0xb2f2f9]\n\t(No symbol) [0x0xb0e2a6]\n\t(No symbol) [0x0xadd5f0]\n\t(No symbol) [0x0xade464]\n\tGetHandleVerifier [0x0xee3463+2504899]\n\tGetHandleVerifier [0x0xede892+2485490]\n\tGetHandleVerifier [0x0xcb590a+220522]\n\tGetHandleVerifier [0x0xca6388+157672]\n\tGetHandleVerifier [0x0xcacb6d+184269]\n\tGetHandleVerifier [0x0xc97158+95672]\n\tGetHandleVerifier [0x0xc97300+96096]\n\tGetHandleVerifier [0x0xc821aa+9738]\n\tBaseThreadInitThunk [0x0x75f4fcc9+25]\n\tRtlGetAppContainerNamedObjectPath [0x0x771082ae+286]\n\tRtlGetAppContainerNamedObjectPath [0x0x7710827e+238]\n"
     ]
    }
   ],
   "source": [
    "from selenium import webdriver\n",
    "from selenium.webdriver.chrome.service import Service\n",
    "from selenium.webdriver.common.by import By\n",
    "from selenium.webdriver.chrome.options import Options\n",
    "from webdriver_manager.chrome import ChromeDriverManager\n",
    "import time\n",
    "\n",
    "options = Options()\n",
    "# options.add_argument(\"--headless\")\n",
    "options.add_argument(\"--no-sandbox\")\n",
    "options.add_argument(\"--disable-dev-shm-usage\")\n",
    "\n",
    "driver = webdriver.Chrome(service=Service(ChromeDriverManager().install()), options=options)\n",
    "\n",
    "base_url = \"https://www.reed.co.uk/courses/online\"\n",
    "\n",
    "# scrape through first 4 pages\n",
    "for page in range(1, 5):\n",
    "    print(f\"\\n Page {page}\")\n",
    "    url = base_url + str(page)\n",
    "    driver.get(url)\n",
    "    time.sleep(5)\n",
    "\n",
    "    course_cards = driver.find_elements(By.CSS_SELECTOR, \"article.card\")\n",
    "\n",
    "    for card in course_cards:\n",
    "        try:\n",
    "            title = card.find_element(By.CSS_SELECTOR, \"h3\").text.strip()\n",
    "\n",
    "            subtitle = card.find_element(By.CSS_SELECTOR, \".course-card__description\").text.strip()\n",
    "\n",
    "            print(f\"Title   : {title}\")\n",
    "            print(f\"Subtitle: {subtitle}\\n\")\n",
    "        except:\n",
    "            continue\n",
    "\n",
    "driver.quit()\n"
   ]
  }
 ],
 "metadata": {
  "kernelspec": {
   "display_name": "Python 3",
   "language": "python",
   "name": "python3"
  },
  "language_info": {
   "codemirror_mode": {
    "name": "ipython",
    "version": 3
   },
   "file_extension": ".py",
   "mimetype": "text/x-python",
   "name": "python",
   "nbconvert_exporter": "python",
   "pygments_lexer": "ipython3",
   "version": "3.13.1"
  }
 },
 "nbformat": 4,
 "nbformat_minor": 5
}
